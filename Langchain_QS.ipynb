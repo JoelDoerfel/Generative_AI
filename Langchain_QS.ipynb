{
  "nbformat": 4,
  "nbformat_minor": 0,
  "metadata": {
    "colab": {
      "provenance": [],
      "authorship_tag": "ABX9TyPf9QOEDtimOkiyUgTMNobB",
      "include_colab_link": true
    },
    "kernelspec": {
      "name": "python3",
      "display_name": "Python 3"
    },
    "language_info": {
      "name": "python"
    }
  },
  "cells": [
    {
      "cell_type": "markdown",
      "metadata": {
        "id": "view-in-github",
        "colab_type": "text"
      },
      "source": [
        "<a href=\"https://colab.research.google.com/github/JoelDoerfel/Generative_AI/blob/main/Langchain_QS.ipynb\" target=\"_parent\"><img src=\"https://colab.research.google.com/assets/colab-badge.svg\" alt=\"Open In Colab\"/></a>"
      ]
    },
    {
      "cell_type": "code",
      "execution_count": 1,
      "metadata": {
        "colab": {
          "base_uri": "https://localhost:8080/"
        },
        "id": "Tx9fGrBv4VRT",
        "outputId": "d322f323-a010-445a-b000-818f8389e52c"
      },
      "outputs": [
        {
          "output_type": "stream",
          "name": "stdout",
          "text": [
            "\u001b[2K     \u001b[90m━━━━━━━━━━━━━━━━━━━━━━━━━━━━━━━━━━━━━━━\u001b[0m \u001b[32m759.0/759.0 kB\u001b[0m \u001b[31m7.5 MB/s\u001b[0m eta \u001b[36m0:00:00\u001b[0m\n",
            "\u001b[2K     \u001b[90m━━━━━━━━━━━━━━━━━━━━━━━━━━━━━━━━━━━━━━━━\u001b[0m \u001b[32m1.0/1.0 MB\u001b[0m \u001b[31m20.9 MB/s\u001b[0m eta \u001b[36m0:00:00\u001b[0m\n",
            "\u001b[2K     \u001b[90m━━━━━━━━━━━━━━━━━━━━━━━━━━━━━━━━━━━━━━━━\u001b[0m \u001b[32m90.0/90.0 kB\u001b[0m \u001b[31m1.4 MB/s\u001b[0m eta \u001b[36m0:00:00\u001b[0m\n",
            "\u001b[2K     \u001b[90m━━━━━━━━━━━━━━━━━━━━━━━━━━━━━━━━━━━━━━━\u001b[0m \u001b[32m268.8/268.8 kB\u001b[0m \u001b[31m9.1 MB/s\u001b[0m eta \u001b[36m0:00:00\u001b[0m\n",
            "\u001b[2K     \u001b[90m━━━━━━━━━━━━━━━━━━━━━━━━━━━━━━━━━━━━━━━\u001b[0m \u001b[32m114.5/114.5 kB\u001b[0m \u001b[31m3.5 MB/s\u001b[0m eta \u001b[36m0:00:00\u001b[0m\n",
            "\u001b[2K     \u001b[90m━━━━━━━━━━━━━━━━━━━━━━━━━━━━━━━━━━━━━━━\u001b[0m \u001b[32m149.6/149.6 kB\u001b[0m \u001b[31m5.9 MB/s\u001b[0m eta \u001b[36m0:00:00\u001b[0m\n",
            "\u001b[2K     \u001b[90m━━━━━━━━━━━━━━━━━━━━━━━━━━━━━━━━━━━━━━━━\u001b[0m \u001b[32m49.1/49.1 kB\u001b[0m \u001b[31m3.0 MB/s\u001b[0m eta \u001b[36m0:00:00\u001b[0m\n",
            "\u001b[?25hlangchain installed\n",
            "\u001b[2K     \u001b[90m━━━━━━━━━━━━━━━━━━━━━━━━━━━━━━━━━━━━━━━━\u001b[0m \u001b[32m71.9/71.9 kB\u001b[0m \u001b[31m2.1 MB/s\u001b[0m eta \u001b[36m0:00:00\u001b[0m\n",
            "\u001b[?25hopenai installed\n"
          ]
        }
      ],
      "source": [
        "# install requirements\n",
        "!pip install langchain --quiet\n",
        "print('langchain installed')\n",
        "!pip install openai --quiet\n",
        "print('openai installed')"
      ]
    },
    {
      "cell_type": "code",
      "source": [
        "# import secrets\n",
        "from google.colab import drive\n",
        "drive.mount(\"/content/drive\", force_remount=True)\n",
        "with open('/content/drive/My Drive/credentials.json') as f:\n",
        "    text = f.read()\n",
        "\n",
        "import json\n",
        "secrets = json.loads(text)\n",
        "openai_api_key = secrets['OPENAI_API_KEY']\n",
        "print('secrets imported')"
      ],
      "metadata": {
        "colab": {
          "base_uri": "https://localhost:8080/"
        },
        "id": "atpKhZbi4dzq",
        "outputId": "07d20b5e-a8ea-4d0b-c73d-e53a0adad973"
      },
      "execution_count": 30,
      "outputs": [
        {
          "output_type": "stream",
          "name": "stdout",
          "text": [
            "secrets imported\n"
          ]
        }
      ]
    },
    {
      "cell_type": "code",
      "source": [
        "# bring data inputs into dataframe\n",
        "import pandas as pd\n",
        "\n",
        "url = 'https://raw.githubusercontent.com/JoelDoerfel/Generative_AI/main/Custom_Dataframe/events.csv'\n",
        "df = pd.read_csv(url)\n",
        "df['date'] = df['date'].astype({'date': 'datetime64[ns]'})\n",
        "df"
      ],
      "metadata": {
        "colab": {
          "base_uri": "https://localhost:8080/",
          "height": 423
        },
        "id": "kTyyiLJT4eOe",
        "outputId": "cc7f70aa-a16e-41af-f3f0-053d48ad497d"
      },
      "execution_count": 29,
      "outputs": [
        {
          "output_type": "execute_result",
          "data": {
            "text/plain": [
              "           date     wake     sleep  sleep_hours  mood body_fat  am_weight_lbs  \\\n",
              "0    2020-01-01  7:30 AM  11:11 PM          8.0    70   29.40%          224.6   \n",
              "1    2020-01-02  7:30 AM  11:11 PM          8.3    72   30.60%          223.2   \n",
              "2    2020-01-03  6:20 AM   9:30 PM          7.2    72   29.60%          221.7   \n",
              "3    2020-01-04  7:00 AM  10:10 PM          9.5    80   30.10%          222.8   \n",
              "4    2020-01-05  6:40 AM  12:12 AM          8.5    80   28.80%          219.4   \n",
              "...         ...      ...       ...          ...   ...      ...            ...   \n",
              "1090 2022-12-27  5:21 AM   9:45 PM          8.3    72   24.50%          204.5   \n",
              "1091 2022-12-28  5:45 AM   9:09 PM          8.0    70   24.80%          204.2   \n",
              "1092 2022-12-29  5:45 AM  10:15 PM          8.6    70   26.00%          203.1   \n",
              "1093 2022-12-30  6:30 AM   9:30 PM          8.3    70   25.80%          202.2   \n",
              "1094 2022-12-31  6:30 AM  11:11 PM          9.0    70   25.80%          204.1   \n",
              "\n",
              "      calories_in  calories_out  net_calories  fitbit_steps  \n",
              "0            1800           560         -1455         14000  \n",
              "1            2700           240          -218          6000  \n",
              "2            2000           440         -1100         11000  \n",
              "3            2000           520         -1194         13000  \n",
              "4            1800           320         -1153          8000  \n",
              "...           ...           ...           ...           ...  \n",
              "1090         2100           620          -974          5000  \n",
              "1091         1400           150         -1201          3000  \n",
              "1092         1700           150          -887          3000  \n",
              "1093         1600           150          -976          3000  \n",
              "1094         1500           400         -1349          8000  \n",
              "\n",
              "[1095 rows x 11 columns]"
            ],
            "text/html": [
              "\n",
              "  <div id=\"df-52988b4f-47e5-4385-bc5f-d68fab599bbc\">\n",
              "    <div class=\"colab-df-container\">\n",
              "      <div>\n",
              "<style scoped>\n",
              "    .dataframe tbody tr th:only-of-type {\n",
              "        vertical-align: middle;\n",
              "    }\n",
              "\n",
              "    .dataframe tbody tr th {\n",
              "        vertical-align: top;\n",
              "    }\n",
              "\n",
              "    .dataframe thead th {\n",
              "        text-align: right;\n",
              "    }\n",
              "</style>\n",
              "<table border=\"1\" class=\"dataframe\">\n",
              "  <thead>\n",
              "    <tr style=\"text-align: right;\">\n",
              "      <th></th>\n",
              "      <th>date</th>\n",
              "      <th>wake</th>\n",
              "      <th>sleep</th>\n",
              "      <th>sleep_hours</th>\n",
              "      <th>mood</th>\n",
              "      <th>body_fat</th>\n",
              "      <th>am_weight_lbs</th>\n",
              "      <th>calories_in</th>\n",
              "      <th>calories_out</th>\n",
              "      <th>net_calories</th>\n",
              "      <th>fitbit_steps</th>\n",
              "    </tr>\n",
              "  </thead>\n",
              "  <tbody>\n",
              "    <tr>\n",
              "      <th>0</th>\n",
              "      <td>2020-01-01</td>\n",
              "      <td>7:30 AM</td>\n",
              "      <td>11:11 PM</td>\n",
              "      <td>8.0</td>\n",
              "      <td>70</td>\n",
              "      <td>29.40%</td>\n",
              "      <td>224.6</td>\n",
              "      <td>1800</td>\n",
              "      <td>560</td>\n",
              "      <td>-1455</td>\n",
              "      <td>14000</td>\n",
              "    </tr>\n",
              "    <tr>\n",
              "      <th>1</th>\n",
              "      <td>2020-01-02</td>\n",
              "      <td>7:30 AM</td>\n",
              "      <td>11:11 PM</td>\n",
              "      <td>8.3</td>\n",
              "      <td>72</td>\n",
              "      <td>30.60%</td>\n",
              "      <td>223.2</td>\n",
              "      <td>2700</td>\n",
              "      <td>240</td>\n",
              "      <td>-218</td>\n",
              "      <td>6000</td>\n",
              "    </tr>\n",
              "    <tr>\n",
              "      <th>2</th>\n",
              "      <td>2020-01-03</td>\n",
              "      <td>6:20 AM</td>\n",
              "      <td>9:30 PM</td>\n",
              "      <td>7.2</td>\n",
              "      <td>72</td>\n",
              "      <td>29.60%</td>\n",
              "      <td>221.7</td>\n",
              "      <td>2000</td>\n",
              "      <td>440</td>\n",
              "      <td>-1100</td>\n",
              "      <td>11000</td>\n",
              "    </tr>\n",
              "    <tr>\n",
              "      <th>3</th>\n",
              "      <td>2020-01-04</td>\n",
              "      <td>7:00 AM</td>\n",
              "      <td>10:10 PM</td>\n",
              "      <td>9.5</td>\n",
              "      <td>80</td>\n",
              "      <td>30.10%</td>\n",
              "      <td>222.8</td>\n",
              "      <td>2000</td>\n",
              "      <td>520</td>\n",
              "      <td>-1194</td>\n",
              "      <td>13000</td>\n",
              "    </tr>\n",
              "    <tr>\n",
              "      <th>4</th>\n",
              "      <td>2020-01-05</td>\n",
              "      <td>6:40 AM</td>\n",
              "      <td>12:12 AM</td>\n",
              "      <td>8.5</td>\n",
              "      <td>80</td>\n",
              "      <td>28.80%</td>\n",
              "      <td>219.4</td>\n",
              "      <td>1800</td>\n",
              "      <td>320</td>\n",
              "      <td>-1153</td>\n",
              "      <td>8000</td>\n",
              "    </tr>\n",
              "    <tr>\n",
              "      <th>...</th>\n",
              "      <td>...</td>\n",
              "      <td>...</td>\n",
              "      <td>...</td>\n",
              "      <td>...</td>\n",
              "      <td>...</td>\n",
              "      <td>...</td>\n",
              "      <td>...</td>\n",
              "      <td>...</td>\n",
              "      <td>...</td>\n",
              "      <td>...</td>\n",
              "      <td>...</td>\n",
              "    </tr>\n",
              "    <tr>\n",
              "      <th>1090</th>\n",
              "      <td>2022-12-27</td>\n",
              "      <td>5:21 AM</td>\n",
              "      <td>9:45 PM</td>\n",
              "      <td>8.3</td>\n",
              "      <td>72</td>\n",
              "      <td>24.50%</td>\n",
              "      <td>204.5</td>\n",
              "      <td>2100</td>\n",
              "      <td>620</td>\n",
              "      <td>-974</td>\n",
              "      <td>5000</td>\n",
              "    </tr>\n",
              "    <tr>\n",
              "      <th>1091</th>\n",
              "      <td>2022-12-28</td>\n",
              "      <td>5:45 AM</td>\n",
              "      <td>9:09 PM</td>\n",
              "      <td>8.0</td>\n",
              "      <td>70</td>\n",
              "      <td>24.80%</td>\n",
              "      <td>204.2</td>\n",
              "      <td>1400</td>\n",
              "      <td>150</td>\n",
              "      <td>-1201</td>\n",
              "      <td>3000</td>\n",
              "    </tr>\n",
              "    <tr>\n",
              "      <th>1092</th>\n",
              "      <td>2022-12-29</td>\n",
              "      <td>5:45 AM</td>\n",
              "      <td>10:15 PM</td>\n",
              "      <td>8.6</td>\n",
              "      <td>70</td>\n",
              "      <td>26.00%</td>\n",
              "      <td>203.1</td>\n",
              "      <td>1700</td>\n",
              "      <td>150</td>\n",
              "      <td>-887</td>\n",
              "      <td>3000</td>\n",
              "    </tr>\n",
              "    <tr>\n",
              "      <th>1093</th>\n",
              "      <td>2022-12-30</td>\n",
              "      <td>6:30 AM</td>\n",
              "      <td>9:30 PM</td>\n",
              "      <td>8.3</td>\n",
              "      <td>70</td>\n",
              "      <td>25.80%</td>\n",
              "      <td>202.2</td>\n",
              "      <td>1600</td>\n",
              "      <td>150</td>\n",
              "      <td>-976</td>\n",
              "      <td>3000</td>\n",
              "    </tr>\n",
              "    <tr>\n",
              "      <th>1094</th>\n",
              "      <td>2022-12-31</td>\n",
              "      <td>6:30 AM</td>\n",
              "      <td>11:11 PM</td>\n",
              "      <td>9.0</td>\n",
              "      <td>70</td>\n",
              "      <td>25.80%</td>\n",
              "      <td>204.1</td>\n",
              "      <td>1500</td>\n",
              "      <td>400</td>\n",
              "      <td>-1349</td>\n",
              "      <td>8000</td>\n",
              "    </tr>\n",
              "  </tbody>\n",
              "</table>\n",
              "<p>1095 rows × 11 columns</p>\n",
              "</div>\n",
              "      <button class=\"colab-df-convert\" onclick=\"convertToInteractive('df-52988b4f-47e5-4385-bc5f-d68fab599bbc')\"\n",
              "              title=\"Convert this dataframe to an interactive table.\"\n",
              "              style=\"display:none;\">\n",
              "        \n",
              "  <svg xmlns=\"http://www.w3.org/2000/svg\" height=\"24px\"viewBox=\"0 0 24 24\"\n",
              "       width=\"24px\">\n",
              "    <path d=\"M0 0h24v24H0V0z\" fill=\"none\"/>\n",
              "    <path d=\"M18.56 5.44l.94 2.06.94-2.06 2.06-.94-2.06-.94-.94-2.06-.94 2.06-2.06.94zm-11 1L8.5 8.5l.94-2.06 2.06-.94-2.06-.94L8.5 2.5l-.94 2.06-2.06.94zm10 10l.94 2.06.94-2.06 2.06-.94-2.06-.94-.94-2.06-.94 2.06-2.06.94z\"/><path d=\"M17.41 7.96l-1.37-1.37c-.4-.4-.92-.59-1.43-.59-.52 0-1.04.2-1.43.59L10.3 9.45l-7.72 7.72c-.78.78-.78 2.05 0 2.83L4 21.41c.39.39.9.59 1.41.59.51 0 1.02-.2 1.41-.59l7.78-7.78 2.81-2.81c.8-.78.8-2.07 0-2.86zM5.41 20L4 18.59l7.72-7.72 1.47 1.35L5.41 20z\"/>\n",
              "  </svg>\n",
              "      </button>\n",
              "      \n",
              "  <style>\n",
              "    .colab-df-container {\n",
              "      display:flex;\n",
              "      flex-wrap:wrap;\n",
              "      gap: 12px;\n",
              "    }\n",
              "\n",
              "    .colab-df-convert {\n",
              "      background-color: #E8F0FE;\n",
              "      border: none;\n",
              "      border-radius: 50%;\n",
              "      cursor: pointer;\n",
              "      display: none;\n",
              "      fill: #1967D2;\n",
              "      height: 32px;\n",
              "      padding: 0 0 0 0;\n",
              "      width: 32px;\n",
              "    }\n",
              "\n",
              "    .colab-df-convert:hover {\n",
              "      background-color: #E2EBFA;\n",
              "      box-shadow: 0px 1px 2px rgba(60, 64, 67, 0.3), 0px 1px 3px 1px rgba(60, 64, 67, 0.15);\n",
              "      fill: #174EA6;\n",
              "    }\n",
              "\n",
              "    [theme=dark] .colab-df-convert {\n",
              "      background-color: #3B4455;\n",
              "      fill: #D2E3FC;\n",
              "    }\n",
              "\n",
              "    [theme=dark] .colab-df-convert:hover {\n",
              "      background-color: #434B5C;\n",
              "      box-shadow: 0px 1px 3px 1px rgba(0, 0, 0, 0.15);\n",
              "      filter: drop-shadow(0px 1px 2px rgba(0, 0, 0, 0.3));\n",
              "      fill: #FFFFFF;\n",
              "    }\n",
              "  </style>\n",
              "\n",
              "      <script>\n",
              "        const buttonEl =\n",
              "          document.querySelector('#df-52988b4f-47e5-4385-bc5f-d68fab599bbc button.colab-df-convert');\n",
              "        buttonEl.style.display =\n",
              "          google.colab.kernel.accessAllowed ? 'block' : 'none';\n",
              "\n",
              "        async function convertToInteractive(key) {\n",
              "          const element = document.querySelector('#df-52988b4f-47e5-4385-bc5f-d68fab599bbc');\n",
              "          const dataTable =\n",
              "            await google.colab.kernel.invokeFunction('convertToInteractive',\n",
              "                                                     [key], {});\n",
              "          if (!dataTable) return;\n",
              "\n",
              "          const docLinkHtml = 'Like what you see? Visit the ' +\n",
              "            '<a target=\"_blank\" href=https://colab.research.google.com/notebooks/data_table.ipynb>data table notebook</a>'\n",
              "            + ' to learn more about interactive tables.';\n",
              "          element.innerHTML = '';\n",
              "          dataTable['output_type'] = 'display_data';\n",
              "          await google.colab.output.renderOutput(dataTable, element);\n",
              "          const docLink = document.createElement('div');\n",
              "          docLink.innerHTML = docLinkHtml;\n",
              "          element.appendChild(docLink);\n",
              "        }\n",
              "      </script>\n",
              "    </div>\n",
              "  </div>\n",
              "  "
            ]
          },
          "metadata": {},
          "execution_count": 29
        }
      ]
    },
    {
      "cell_type": "code",
      "source": [
        "# build the langchain agent\n",
        "from langchain.agents import create_pandas_dataframe_agent\n",
        "from langchain.llms import OpenAI\n",
        "import os\n",
        "os.environ['OPENAI_API_KEY'] = openai_api_key\n",
        "\n",
        "agent = create_pandas_dataframe_agent(OpenAI(temperature=0), df, verbose=True)\n",
        "\n",
        "# ask questions\n",
        "agent.run(\"how many rows are there?\")"
      ],
      "metadata": {
        "colab": {
          "base_uri": "https://localhost:8080/",
          "height": 226
        },
        "id": "eVSqhb7w4eni",
        "outputId": "de9d34c9-a993-46a2-93ee-370389f1040c"
      },
      "execution_count": 32,
      "outputs": [
        {
          "output_type": "stream",
          "name": "stdout",
          "text": [
            "\n",
            "\n",
            "\u001b[1m> Entering new AgentExecutor chain...\u001b[0m\n",
            "\u001b[32;1m\u001b[1;3mThought: I need to find the number of rows\n",
            "Action: python_repl_ast\n",
            "Action Input: df.shape[0]\u001b[0m\n",
            "Observation: \u001b[36;1m\u001b[1;3m1095\u001b[0m\n",
            "Thought:\u001b[32;1m\u001b[1;3m I now know the final answer\n",
            "Final Answer: 1095 rows\u001b[0m\n",
            "\n",
            "\u001b[1m> Finished chain.\u001b[0m\n"
          ]
        },
        {
          "output_type": "execute_result",
          "data": {
            "text/plain": [
              "'1095 rows'"
            ],
            "application/vnd.google.colaboratory.intrinsic+json": {
              "type": "string"
            }
          },
          "metadata": {},
          "execution_count": 32
        }
      ]
    },
    {
      "cell_type": "code",
      "source": [
        "agent.run(\"what was the average am_weight_lbs in when the year of the date column was 2020?\")"
      ],
      "metadata": {
        "colab": {
          "base_uri": "https://localhost:8080/",
          "height": 226
        },
        "id": "uL_2fWWXBQ3h",
        "outputId": "ca560361-c10f-439f-8280-941313f02a9e"
      },
      "execution_count": 33,
      "outputs": [
        {
          "output_type": "stream",
          "name": "stdout",
          "text": [
            "\n",
            "\n",
            "\u001b[1m> Entering new AgentExecutor chain...\u001b[0m\n",
            "\u001b[32;1m\u001b[1;3mThought: I need to filter the dataframe to only include rows with a date in 2020\n",
            "Action: python_repl_ast\n",
            "Action Input: df[df['date'].dt.year == 2020]['am_weight_lbs'].mean()\u001b[0m\n",
            "Observation: \u001b[36;1m\u001b[1;3m212.28688524590163\u001b[0m\n",
            "Thought:\u001b[32;1m\u001b[1;3m I now know the final answer\n",
            "Final Answer: The average am_weight_lbs in 2020 was 212.29.\u001b[0m\n",
            "\n",
            "\u001b[1m> Finished chain.\u001b[0m\n"
          ]
        },
        {
          "output_type": "execute_result",
          "data": {
            "text/plain": [
              "'The average am_weight_lbs in 2020 was 212.29.'"
            ],
            "application/vnd.google.colaboratory.intrinsic+json": {
              "type": "string"
            }
          },
          "metadata": {},
          "execution_count": 33
        }
      ]
    }
  ]
}